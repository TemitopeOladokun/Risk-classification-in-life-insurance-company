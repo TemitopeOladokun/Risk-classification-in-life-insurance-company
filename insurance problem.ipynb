{
 "cells": [
  {
   "cell_type": "code",
   "execution_count": 2,
   "metadata": {},
   "outputs": [],
   "source": [
    "import pandas as pd\n",
    "import numpy as np\n",
    "import seaborn as sns\n",
    "sns.set_style('darkgrid')\n",
    "import matplotlib.pyplot as plt\n",
    "%matplotlib inline"
   ]
  },
  {
   "cell_type": "code",
   "execution_count": 3,
   "metadata": {},
   "outputs": [],
   "source": [
    "df_train = pd.read_csv('train.csv')"
   ]
  },
  {
   "cell_type": "code",
   "execution_count": 4,
   "metadata": {},
   "outputs": [],
   "source": [
    "df_test = pd.read_csv('test.csv')"
   ]
  },
  {
   "cell_type": "code",
   "execution_count": 5,
   "metadata": {},
   "outputs": [
    {
     "data": {
      "text/plain": [
       "((59381, 128), (19765, 127))"
      ]
     },
     "execution_count": 5,
     "metadata": {},
     "output_type": "execute_result"
    }
   ],
   "source": [
    "df_train.shape,df_test.shape"
   ]
  },
  {
   "cell_type": "code",
   "execution_count": 34,
   "metadata": {
    "scrolled": true
   },
   "outputs": [
    {
     "data": {
      "text/html": [
       "<div>\n",
       "<style scoped>\n",
       "    .dataframe tbody tr th:only-of-type {\n",
       "        vertical-align: middle;\n",
       "    }\n",
       "\n",
       "    .dataframe tbody tr th {\n",
       "        vertical-align: top;\n",
       "    }\n",
       "\n",
       "    .dataframe thead th {\n",
       "        text-align: right;\n",
       "    }\n",
       "</style>\n",
       "<table border=\"1\" class=\"dataframe\">\n",
       "  <thead>\n",
       "    <tr style=\"text-align: right;\">\n",
       "      <th></th>\n",
       "      <th>Id</th>\n",
       "      <th>Product_Info_1</th>\n",
       "      <th>Product_Info_2</th>\n",
       "      <th>Product_Info_3</th>\n",
       "      <th>Product_Info_4</th>\n",
       "      <th>Product_Info_5</th>\n",
       "      <th>Product_Info_6</th>\n",
       "      <th>Product_Info_7</th>\n",
       "      <th>Ins_Age</th>\n",
       "      <th>Ht</th>\n",
       "      <th>...</th>\n",
       "      <th>Medical_Keyword_40</th>\n",
       "      <th>Medical_Keyword_41</th>\n",
       "      <th>Medical_Keyword_42</th>\n",
       "      <th>Medical_Keyword_43</th>\n",
       "      <th>Medical_Keyword_44</th>\n",
       "      <th>Medical_Keyword_45</th>\n",
       "      <th>Medical_Keyword_46</th>\n",
       "      <th>Medical_Keyword_47</th>\n",
       "      <th>Medical_Keyword_48</th>\n",
       "      <th>Response</th>\n",
       "    </tr>\n",
       "  </thead>\n",
       "  <tbody>\n",
       "    <tr>\n",
       "      <th>0</th>\n",
       "      <td>2</td>\n",
       "      <td>1</td>\n",
       "      <td>D3</td>\n",
       "      <td>10</td>\n",
       "      <td>0.076923</td>\n",
       "      <td>2</td>\n",
       "      <td>1</td>\n",
       "      <td>1</td>\n",
       "      <td>0.641791</td>\n",
       "      <td>0.581818</td>\n",
       "      <td>...</td>\n",
       "      <td>0</td>\n",
       "      <td>0</td>\n",
       "      <td>0</td>\n",
       "      <td>0</td>\n",
       "      <td>0</td>\n",
       "      <td>0</td>\n",
       "      <td>0</td>\n",
       "      <td>0</td>\n",
       "      <td>0</td>\n",
       "      <td>8</td>\n",
       "    </tr>\n",
       "    <tr>\n",
       "      <th>1</th>\n",
       "      <td>5</td>\n",
       "      <td>1</td>\n",
       "      <td>A1</td>\n",
       "      <td>26</td>\n",
       "      <td>0.076923</td>\n",
       "      <td>2</td>\n",
       "      <td>3</td>\n",
       "      <td>1</td>\n",
       "      <td>0.059701</td>\n",
       "      <td>0.600000</td>\n",
       "      <td>...</td>\n",
       "      <td>0</td>\n",
       "      <td>0</td>\n",
       "      <td>0</td>\n",
       "      <td>0</td>\n",
       "      <td>0</td>\n",
       "      <td>0</td>\n",
       "      <td>0</td>\n",
       "      <td>0</td>\n",
       "      <td>0</td>\n",
       "      <td>4</td>\n",
       "    </tr>\n",
       "    <tr>\n",
       "      <th>2</th>\n",
       "      <td>6</td>\n",
       "      <td>1</td>\n",
       "      <td>E1</td>\n",
       "      <td>26</td>\n",
       "      <td>0.076923</td>\n",
       "      <td>2</td>\n",
       "      <td>3</td>\n",
       "      <td>1</td>\n",
       "      <td>0.029851</td>\n",
       "      <td>0.745455</td>\n",
       "      <td>...</td>\n",
       "      <td>0</td>\n",
       "      <td>0</td>\n",
       "      <td>0</td>\n",
       "      <td>0</td>\n",
       "      <td>0</td>\n",
       "      <td>0</td>\n",
       "      <td>0</td>\n",
       "      <td>0</td>\n",
       "      <td>0</td>\n",
       "      <td>8</td>\n",
       "    </tr>\n",
       "    <tr>\n",
       "      <th>3</th>\n",
       "      <td>7</td>\n",
       "      <td>1</td>\n",
       "      <td>D4</td>\n",
       "      <td>10</td>\n",
       "      <td>0.487179</td>\n",
       "      <td>2</td>\n",
       "      <td>3</td>\n",
       "      <td>1</td>\n",
       "      <td>0.164179</td>\n",
       "      <td>0.672727</td>\n",
       "      <td>...</td>\n",
       "      <td>0</td>\n",
       "      <td>0</td>\n",
       "      <td>0</td>\n",
       "      <td>0</td>\n",
       "      <td>0</td>\n",
       "      <td>0</td>\n",
       "      <td>0</td>\n",
       "      <td>0</td>\n",
       "      <td>0</td>\n",
       "      <td>8</td>\n",
       "    </tr>\n",
       "    <tr>\n",
       "      <th>4</th>\n",
       "      <td>8</td>\n",
       "      <td>1</td>\n",
       "      <td>D2</td>\n",
       "      <td>26</td>\n",
       "      <td>0.230769</td>\n",
       "      <td>2</td>\n",
       "      <td>3</td>\n",
       "      <td>1</td>\n",
       "      <td>0.417910</td>\n",
       "      <td>0.654545</td>\n",
       "      <td>...</td>\n",
       "      <td>0</td>\n",
       "      <td>0</td>\n",
       "      <td>0</td>\n",
       "      <td>0</td>\n",
       "      <td>0</td>\n",
       "      <td>0</td>\n",
       "      <td>0</td>\n",
       "      <td>0</td>\n",
       "      <td>0</td>\n",
       "      <td>8</td>\n",
       "    </tr>\n",
       "    <tr>\n",
       "      <th>5</th>\n",
       "      <td>10</td>\n",
       "      <td>1</td>\n",
       "      <td>D2</td>\n",
       "      <td>26</td>\n",
       "      <td>0.230769</td>\n",
       "      <td>3</td>\n",
       "      <td>1</td>\n",
       "      <td>1</td>\n",
       "      <td>0.507463</td>\n",
       "      <td>0.836364</td>\n",
       "      <td>...</td>\n",
       "      <td>0</td>\n",
       "      <td>0</td>\n",
       "      <td>0</td>\n",
       "      <td>0</td>\n",
       "      <td>0</td>\n",
       "      <td>0</td>\n",
       "      <td>0</td>\n",
       "      <td>0</td>\n",
       "      <td>0</td>\n",
       "      <td>8</td>\n",
       "    </tr>\n",
       "    <tr>\n",
       "      <th>6</th>\n",
       "      <td>11</td>\n",
       "      <td>1</td>\n",
       "      <td>A8</td>\n",
       "      <td>10</td>\n",
       "      <td>0.166194</td>\n",
       "      <td>2</td>\n",
       "      <td>3</td>\n",
       "      <td>1</td>\n",
       "      <td>0.373134</td>\n",
       "      <td>0.581818</td>\n",
       "      <td>...</td>\n",
       "      <td>0</td>\n",
       "      <td>0</td>\n",
       "      <td>0</td>\n",
       "      <td>0</td>\n",
       "      <td>0</td>\n",
       "      <td>0</td>\n",
       "      <td>0</td>\n",
       "      <td>0</td>\n",
       "      <td>0</td>\n",
       "      <td>8</td>\n",
       "    </tr>\n",
       "    <tr>\n",
       "      <th>7</th>\n",
       "      <td>14</td>\n",
       "      <td>1</td>\n",
       "      <td>D2</td>\n",
       "      <td>26</td>\n",
       "      <td>0.076923</td>\n",
       "      <td>2</td>\n",
       "      <td>3</td>\n",
       "      <td>1</td>\n",
       "      <td>0.611940</td>\n",
       "      <td>0.781818</td>\n",
       "      <td>...</td>\n",
       "      <td>0</td>\n",
       "      <td>0</td>\n",
       "      <td>0</td>\n",
       "      <td>0</td>\n",
       "      <td>0</td>\n",
       "      <td>0</td>\n",
       "      <td>0</td>\n",
       "      <td>0</td>\n",
       "      <td>0</td>\n",
       "      <td>1</td>\n",
       "    </tr>\n",
       "    <tr>\n",
       "      <th>8</th>\n",
       "      <td>15</td>\n",
       "      <td>1</td>\n",
       "      <td>D3</td>\n",
       "      <td>26</td>\n",
       "      <td>0.230769</td>\n",
       "      <td>2</td>\n",
       "      <td>3</td>\n",
       "      <td>1</td>\n",
       "      <td>0.522388</td>\n",
       "      <td>0.618182</td>\n",
       "      <td>...</td>\n",
       "      <td>0</td>\n",
       "      <td>0</td>\n",
       "      <td>0</td>\n",
       "      <td>0</td>\n",
       "      <td>0</td>\n",
       "      <td>0</td>\n",
       "      <td>0</td>\n",
       "      <td>0</td>\n",
       "      <td>0</td>\n",
       "      <td>8</td>\n",
       "    </tr>\n",
       "    <tr>\n",
       "      <th>9</th>\n",
       "      <td>16</td>\n",
       "      <td>1</td>\n",
       "      <td>E1</td>\n",
       "      <td>21</td>\n",
       "      <td>0.076923</td>\n",
       "      <td>2</td>\n",
       "      <td>3</td>\n",
       "      <td>1</td>\n",
       "      <td>0.552239</td>\n",
       "      <td>0.600000</td>\n",
       "      <td>...</td>\n",
       "      <td>0</td>\n",
       "      <td>0</td>\n",
       "      <td>0</td>\n",
       "      <td>0</td>\n",
       "      <td>0</td>\n",
       "      <td>0</td>\n",
       "      <td>0</td>\n",
       "      <td>0</td>\n",
       "      <td>0</td>\n",
       "      <td>1</td>\n",
       "    </tr>\n",
       "  </tbody>\n",
       "</table>\n",
       "<p>10 rows × 128 columns</p>\n",
       "</div>"
      ],
      "text/plain": [
       "   Id  Product_Info_1 Product_Info_2  Product_Info_3  Product_Info_4  \\\n",
       "0   2               1             D3              10        0.076923   \n",
       "1   5               1             A1              26        0.076923   \n",
       "2   6               1             E1              26        0.076923   \n",
       "3   7               1             D4              10        0.487179   \n",
       "4   8               1             D2              26        0.230769   \n",
       "5  10               1             D2              26        0.230769   \n",
       "6  11               1             A8              10        0.166194   \n",
       "7  14               1             D2              26        0.076923   \n",
       "8  15               1             D3              26        0.230769   \n",
       "9  16               1             E1              21        0.076923   \n",
       "\n",
       "   Product_Info_5  Product_Info_6  Product_Info_7   Ins_Age        Ht  ...  \\\n",
       "0               2               1               1  0.641791  0.581818  ...   \n",
       "1               2               3               1  0.059701  0.600000  ...   \n",
       "2               2               3               1  0.029851  0.745455  ...   \n",
       "3               2               3               1  0.164179  0.672727  ...   \n",
       "4               2               3               1  0.417910  0.654545  ...   \n",
       "5               3               1               1  0.507463  0.836364  ...   \n",
       "6               2               3               1  0.373134  0.581818  ...   \n",
       "7               2               3               1  0.611940  0.781818  ...   \n",
       "8               2               3               1  0.522388  0.618182  ...   \n",
       "9               2               3               1  0.552239  0.600000  ...   \n",
       "\n",
       "   Medical_Keyword_40  Medical_Keyword_41  Medical_Keyword_42  \\\n",
       "0                   0                   0                   0   \n",
       "1                   0                   0                   0   \n",
       "2                   0                   0                   0   \n",
       "3                   0                   0                   0   \n",
       "4                   0                   0                   0   \n",
       "5                   0                   0                   0   \n",
       "6                   0                   0                   0   \n",
       "7                   0                   0                   0   \n",
       "8                   0                   0                   0   \n",
       "9                   0                   0                   0   \n",
       "\n",
       "   Medical_Keyword_43  Medical_Keyword_44  Medical_Keyword_45  \\\n",
       "0                   0                   0                   0   \n",
       "1                   0                   0                   0   \n",
       "2                   0                   0                   0   \n",
       "3                   0                   0                   0   \n",
       "4                   0                   0                   0   \n",
       "5                   0                   0                   0   \n",
       "6                   0                   0                   0   \n",
       "7                   0                   0                   0   \n",
       "8                   0                   0                   0   \n",
       "9                   0                   0                   0   \n",
       "\n",
       "   Medical_Keyword_46  Medical_Keyword_47  Medical_Keyword_48  Response  \n",
       "0                   0                   0                   0         8  \n",
       "1                   0                   0                   0         4  \n",
       "2                   0                   0                   0         8  \n",
       "3                   0                   0                   0         8  \n",
       "4                   0                   0                   0         8  \n",
       "5                   0                   0                   0         8  \n",
       "6                   0                   0                   0         8  \n",
       "7                   0                   0                   0         1  \n",
       "8                   0                   0                   0         8  \n",
       "9                   0                   0                   0         1  \n",
       "\n",
       "[10 rows x 128 columns]"
      ]
     },
     "execution_count": 34,
     "metadata": {},
     "output_type": "execute_result"
    }
   ],
   "source": [
    "df_train.head(10)"
   ]
  },
  {
   "cell_type": "code",
   "execution_count": 6,
   "metadata": {},
   "outputs": [
    {
     "data": {
      "text/html": [
       "<div>\n",
       "<style scoped>\n",
       "    .dataframe tbody tr th:only-of-type {\n",
       "        vertical-align: middle;\n",
       "    }\n",
       "\n",
       "    .dataframe tbody tr th {\n",
       "        vertical-align: top;\n",
       "    }\n",
       "\n",
       "    .dataframe thead th {\n",
       "        text-align: right;\n",
       "    }\n",
       "</style>\n",
       "<table border=\"1\" class=\"dataframe\">\n",
       "  <thead>\n",
       "    <tr style=\"text-align: right;\">\n",
       "      <th></th>\n",
       "      <th>Id</th>\n",
       "      <th>Product_Info_1</th>\n",
       "      <th>Product_Info_2</th>\n",
       "      <th>Product_Info_3</th>\n",
       "      <th>Product_Info_4</th>\n",
       "      <th>Product_Info_5</th>\n",
       "      <th>Product_Info_6</th>\n",
       "      <th>Product_Info_7</th>\n",
       "      <th>Ins_Age</th>\n",
       "      <th>Ht</th>\n",
       "      <th>...</th>\n",
       "      <th>Medical_Keyword_40</th>\n",
       "      <th>Medical_Keyword_41</th>\n",
       "      <th>Medical_Keyword_42</th>\n",
       "      <th>Medical_Keyword_43</th>\n",
       "      <th>Medical_Keyword_44</th>\n",
       "      <th>Medical_Keyword_45</th>\n",
       "      <th>Medical_Keyword_46</th>\n",
       "      <th>Medical_Keyword_47</th>\n",
       "      <th>Medical_Keyword_48</th>\n",
       "      <th>Response</th>\n",
       "    </tr>\n",
       "  </thead>\n",
       "  <tbody>\n",
       "    <tr>\n",
       "      <th>59376</th>\n",
       "      <td>79142</td>\n",
       "      <td>1</td>\n",
       "      <td>D1</td>\n",
       "      <td>10</td>\n",
       "      <td>0.230769</td>\n",
       "      <td>2</td>\n",
       "      <td>3</td>\n",
       "      <td>1</td>\n",
       "      <td>0.074627</td>\n",
       "      <td>0.709091</td>\n",
       "      <td>...</td>\n",
       "      <td>0</td>\n",
       "      <td>0</td>\n",
       "      <td>0</td>\n",
       "      <td>0</td>\n",
       "      <td>0</td>\n",
       "      <td>0</td>\n",
       "      <td>0</td>\n",
       "      <td>0</td>\n",
       "      <td>0</td>\n",
       "      <td>4</td>\n",
       "    </tr>\n",
       "    <tr>\n",
       "      <th>59377</th>\n",
       "      <td>79143</td>\n",
       "      <td>1</td>\n",
       "      <td>D3</td>\n",
       "      <td>26</td>\n",
       "      <td>0.230769</td>\n",
       "      <td>2</td>\n",
       "      <td>3</td>\n",
       "      <td>1</td>\n",
       "      <td>0.432836</td>\n",
       "      <td>0.800000</td>\n",
       "      <td>...</td>\n",
       "      <td>0</td>\n",
       "      <td>0</td>\n",
       "      <td>0</td>\n",
       "      <td>0</td>\n",
       "      <td>0</td>\n",
       "      <td>0</td>\n",
       "      <td>0</td>\n",
       "      <td>0</td>\n",
       "      <td>0</td>\n",
       "      <td>7</td>\n",
       "    </tr>\n",
       "    <tr>\n",
       "      <th>59378</th>\n",
       "      <td>79144</td>\n",
       "      <td>1</td>\n",
       "      <td>E1</td>\n",
       "      <td>26</td>\n",
       "      <td>0.076923</td>\n",
       "      <td>2</td>\n",
       "      <td>3</td>\n",
       "      <td>1</td>\n",
       "      <td>0.104478</td>\n",
       "      <td>0.745455</td>\n",
       "      <td>...</td>\n",
       "      <td>0</td>\n",
       "      <td>0</td>\n",
       "      <td>0</td>\n",
       "      <td>0</td>\n",
       "      <td>0</td>\n",
       "      <td>0</td>\n",
       "      <td>0</td>\n",
       "      <td>0</td>\n",
       "      <td>0</td>\n",
       "      <td>8</td>\n",
       "    </tr>\n",
       "    <tr>\n",
       "      <th>59379</th>\n",
       "      <td>79145</td>\n",
       "      <td>1</td>\n",
       "      <td>D2</td>\n",
       "      <td>10</td>\n",
       "      <td>0.230769</td>\n",
       "      <td>2</td>\n",
       "      <td>3</td>\n",
       "      <td>1</td>\n",
       "      <td>0.507463</td>\n",
       "      <td>0.690909</td>\n",
       "      <td>...</td>\n",
       "      <td>1</td>\n",
       "      <td>0</td>\n",
       "      <td>0</td>\n",
       "      <td>0</td>\n",
       "      <td>0</td>\n",
       "      <td>0</td>\n",
       "      <td>0</td>\n",
       "      <td>0</td>\n",
       "      <td>0</td>\n",
       "      <td>8</td>\n",
       "    </tr>\n",
       "    <tr>\n",
       "      <th>59380</th>\n",
       "      <td>79146</td>\n",
       "      <td>1</td>\n",
       "      <td>A8</td>\n",
       "      <td>26</td>\n",
       "      <td>0.076923</td>\n",
       "      <td>2</td>\n",
       "      <td>3</td>\n",
       "      <td>1</td>\n",
       "      <td>0.447761</td>\n",
       "      <td>0.781818</td>\n",
       "      <td>...</td>\n",
       "      <td>0</td>\n",
       "      <td>0</td>\n",
       "      <td>0</td>\n",
       "      <td>0</td>\n",
       "      <td>0</td>\n",
       "      <td>0</td>\n",
       "      <td>0</td>\n",
       "      <td>0</td>\n",
       "      <td>0</td>\n",
       "      <td>7</td>\n",
       "    </tr>\n",
       "  </tbody>\n",
       "</table>\n",
       "<p>5 rows × 128 columns</p>\n",
       "</div>"
      ],
      "text/plain": [
       "          Id  Product_Info_1 Product_Info_2  Product_Info_3  Product_Info_4  \\\n",
       "59376  79142               1             D1              10        0.230769   \n",
       "59377  79143               1             D3              26        0.230769   \n",
       "59378  79144               1             E1              26        0.076923   \n",
       "59379  79145               1             D2              10        0.230769   \n",
       "59380  79146               1             A8              26        0.076923   \n",
       "\n",
       "       Product_Info_5  Product_Info_6  Product_Info_7   Ins_Age        Ht  \\\n",
       "59376               2               3               1  0.074627  0.709091   \n",
       "59377               2               3               1  0.432836  0.800000   \n",
       "59378               2               3               1  0.104478  0.745455   \n",
       "59379               2               3               1  0.507463  0.690909   \n",
       "59380               2               3               1  0.447761  0.781818   \n",
       "\n",
       "       ...  Medical_Keyword_40  Medical_Keyword_41  Medical_Keyword_42  \\\n",
       "59376  ...                   0                   0                   0   \n",
       "59377  ...                   0                   0                   0   \n",
       "59378  ...                   0                   0                   0   \n",
       "59379  ...                   1                   0                   0   \n",
       "59380  ...                   0                   0                   0   \n",
       "\n",
       "       Medical_Keyword_43  Medical_Keyword_44  Medical_Keyword_45  \\\n",
       "59376                   0                   0                   0   \n",
       "59377                   0                   0                   0   \n",
       "59378                   0                   0                   0   \n",
       "59379                   0                   0                   0   \n",
       "59380                   0                   0                   0   \n",
       "\n",
       "       Medical_Keyword_46  Medical_Keyword_47  Medical_Keyword_48  Response  \n",
       "59376                   0                   0                   0         4  \n",
       "59377                   0                   0                   0         7  \n",
       "59378                   0                   0                   0         8  \n",
       "59379                   0                   0                   0         8  \n",
       "59380                   0                   0                   0         7  \n",
       "\n",
       "[5 rows x 128 columns]"
      ]
     },
     "execution_count": 6,
     "metadata": {},
     "output_type": "execute_result"
    }
   ],
   "source": [
    "df_train.tail()"
   ]
  },
  {
   "cell_type": "code",
   "execution_count": 36,
   "metadata": {},
   "outputs": [
    {
     "name": "stdout",
     "output_type": "stream",
     "text": [
      "[8 4 1 6 2 7 3 5]\n",
      "[1 2]\n",
      "[2 3]\n",
      "[1 3]\n",
      "[1 3 2]\n"
     ]
    }
   ],
   "source": [
    "print(df_train['Response'].unique())\n",
    "print(df_train['Product_Info_1'].unique())\n",
    "print(df_train['Product_Info_5'].unique())\n",
    "print(df_train['Product_Info_6'].unique())\n",
    "print(df_train['Product_Info_7'].unique())\n"
   ]
  },
  {
   "cell_type": "code",
   "execution_count": 9,
   "metadata": {},
   "outputs": [
    {
     "data": {
      "text/plain": [
       "Id                       int64\n",
       "Product_Info_1           int64\n",
       "Product_Info_2          object\n",
       "Product_Info_3           int64\n",
       "Product_Info_4         float64\n",
       "Product_Info_5           int64\n",
       "Product_Info_6           int64\n",
       "Product_Info_7           int64\n",
       "Ins_Age                float64\n",
       "Ht                     float64\n",
       "Wt                     float64\n",
       "BMI                    float64\n",
       "Employment_Info_1      float64\n",
       "Employment_Info_2        int64\n",
       "Employment_Info_3        int64\n",
       "Employment_Info_4      float64\n",
       "Employment_Info_5        int64\n",
       "Employment_Info_6      float64\n",
       "InsuredInfo_1            int64\n",
       "InsuredInfo_2            int64\n",
       "InsuredInfo_3            int64\n",
       "InsuredInfo_4            int64\n",
       "InsuredInfo_5            int64\n",
       "InsuredInfo_6            int64\n",
       "InsuredInfo_7            int64\n",
       "Insurance_History_1      int64\n",
       "Insurance_History_2      int64\n",
       "Insurance_History_3      int64\n",
       "Insurance_History_4      int64\n",
       "Insurance_History_5    float64\n",
       "                        ...   \n",
       "Medical_Keyword_20       int64\n",
       "Medical_Keyword_21       int64\n",
       "Medical_Keyword_22       int64\n",
       "Medical_Keyword_23       int64\n",
       "Medical_Keyword_24       int64\n",
       "Medical_Keyword_25       int64\n",
       "Medical_Keyword_26       int64\n",
       "Medical_Keyword_27       int64\n",
       "Medical_Keyword_28       int64\n",
       "Medical_Keyword_29       int64\n",
       "Medical_Keyword_30       int64\n",
       "Medical_Keyword_31       int64\n",
       "Medical_Keyword_32       int64\n",
       "Medical_Keyword_33       int64\n",
       "Medical_Keyword_34       int64\n",
       "Medical_Keyword_35       int64\n",
       "Medical_Keyword_36       int64\n",
       "Medical_Keyword_37       int64\n",
       "Medical_Keyword_38       int64\n",
       "Medical_Keyword_39       int64\n",
       "Medical_Keyword_40       int64\n",
       "Medical_Keyword_41       int64\n",
       "Medical_Keyword_42       int64\n",
       "Medical_Keyword_43       int64\n",
       "Medical_Keyword_44       int64\n",
       "Medical_Keyword_45       int64\n",
       "Medical_Keyword_46       int64\n",
       "Medical_Keyword_47       int64\n",
       "Medical_Keyword_48       int64\n",
       "Response                 int64\n",
       "Length: 128, dtype: object"
      ]
     },
     "execution_count": 9,
     "metadata": {},
     "output_type": "execute_result"
    }
   ],
   "source": [
    "df_train.dtypes"
   ]
  },
  {
   "cell_type": "code",
   "execution_count": 11,
   "metadata": {},
   "outputs": [
    {
     "data": {
      "text/html": [
       "<div>\n",
       "<style scoped>\n",
       "    .dataframe tbody tr th:only-of-type {\n",
       "        vertical-align: middle;\n",
       "    }\n",
       "\n",
       "    .dataframe tbody tr th {\n",
       "        vertical-align: top;\n",
       "    }\n",
       "\n",
       "    .dataframe thead th {\n",
       "        text-align: right;\n",
       "    }\n",
       "</style>\n",
       "<table border=\"1\" class=\"dataframe\">\n",
       "  <thead>\n",
       "    <tr style=\"text-align: right;\">\n",
       "      <th></th>\n",
       "      <th>Id</th>\n",
       "      <th>Product_Info_1</th>\n",
       "      <th>Product_Info_3</th>\n",
       "      <th>Product_Info_4</th>\n",
       "      <th>Product_Info_5</th>\n",
       "      <th>Product_Info_6</th>\n",
       "      <th>Product_Info_7</th>\n",
       "      <th>Ins_Age</th>\n",
       "      <th>Ht</th>\n",
       "      <th>Wt</th>\n",
       "      <th>...</th>\n",
       "      <th>Medical_Keyword_40</th>\n",
       "      <th>Medical_Keyword_41</th>\n",
       "      <th>Medical_Keyword_42</th>\n",
       "      <th>Medical_Keyword_43</th>\n",
       "      <th>Medical_Keyword_44</th>\n",
       "      <th>Medical_Keyword_45</th>\n",
       "      <th>Medical_Keyword_46</th>\n",
       "      <th>Medical_Keyword_47</th>\n",
       "      <th>Medical_Keyword_48</th>\n",
       "      <th>Response</th>\n",
       "    </tr>\n",
       "  </thead>\n",
       "  <tbody>\n",
       "    <tr>\n",
       "      <th>count</th>\n",
       "      <td>59381.000000</td>\n",
       "      <td>59381.000000</td>\n",
       "      <td>59381.000000</td>\n",
       "      <td>59381.000000</td>\n",
       "      <td>59381.000000</td>\n",
       "      <td>59381.000000</td>\n",
       "      <td>59381.000000</td>\n",
       "      <td>59381.000000</td>\n",
       "      <td>59381.000000</td>\n",
       "      <td>59381.000000</td>\n",
       "      <td>...</td>\n",
       "      <td>59381.000000</td>\n",
       "      <td>59381.000000</td>\n",
       "      <td>59381.000000</td>\n",
       "      <td>59381.000000</td>\n",
       "      <td>59381.000000</td>\n",
       "      <td>59381.000000</td>\n",
       "      <td>59381.000000</td>\n",
       "      <td>59381.000000</td>\n",
       "      <td>59381.000000</td>\n",
       "      <td>59381.000000</td>\n",
       "    </tr>\n",
       "    <tr>\n",
       "      <th>mean</th>\n",
       "      <td>39507.211515</td>\n",
       "      <td>1.026355</td>\n",
       "      <td>24.415655</td>\n",
       "      <td>0.328952</td>\n",
       "      <td>2.006955</td>\n",
       "      <td>2.673599</td>\n",
       "      <td>1.043583</td>\n",
       "      <td>0.405567</td>\n",
       "      <td>0.707283</td>\n",
       "      <td>0.292587</td>\n",
       "      <td>...</td>\n",
       "      <td>0.056954</td>\n",
       "      <td>0.010054</td>\n",
       "      <td>0.045536</td>\n",
       "      <td>0.010710</td>\n",
       "      <td>0.007528</td>\n",
       "      <td>0.013691</td>\n",
       "      <td>0.008488</td>\n",
       "      <td>0.019905</td>\n",
       "      <td>0.054496</td>\n",
       "      <td>5.636837</td>\n",
       "    </tr>\n",
       "    <tr>\n",
       "      <th>std</th>\n",
       "      <td>22815.883089</td>\n",
       "      <td>0.160191</td>\n",
       "      <td>5.072885</td>\n",
       "      <td>0.282562</td>\n",
       "      <td>0.083107</td>\n",
       "      <td>0.739103</td>\n",
       "      <td>0.291949</td>\n",
       "      <td>0.197190</td>\n",
       "      <td>0.074239</td>\n",
       "      <td>0.089037</td>\n",
       "      <td>...</td>\n",
       "      <td>0.231757</td>\n",
       "      <td>0.099764</td>\n",
       "      <td>0.208479</td>\n",
       "      <td>0.102937</td>\n",
       "      <td>0.086436</td>\n",
       "      <td>0.116207</td>\n",
       "      <td>0.091737</td>\n",
       "      <td>0.139676</td>\n",
       "      <td>0.226995</td>\n",
       "      <td>2.456833</td>\n",
       "    </tr>\n",
       "    <tr>\n",
       "      <th>min</th>\n",
       "      <td>2.000000</td>\n",
       "      <td>1.000000</td>\n",
       "      <td>1.000000</td>\n",
       "      <td>0.000000</td>\n",
       "      <td>2.000000</td>\n",
       "      <td>1.000000</td>\n",
       "      <td>1.000000</td>\n",
       "      <td>0.000000</td>\n",
       "      <td>0.000000</td>\n",
       "      <td>0.000000</td>\n",
       "      <td>...</td>\n",
       "      <td>0.000000</td>\n",
       "      <td>0.000000</td>\n",
       "      <td>0.000000</td>\n",
       "      <td>0.000000</td>\n",
       "      <td>0.000000</td>\n",
       "      <td>0.000000</td>\n",
       "      <td>0.000000</td>\n",
       "      <td>0.000000</td>\n",
       "      <td>0.000000</td>\n",
       "      <td>1.000000</td>\n",
       "    </tr>\n",
       "    <tr>\n",
       "      <th>25%</th>\n",
       "      <td>19780.000000</td>\n",
       "      <td>1.000000</td>\n",
       "      <td>26.000000</td>\n",
       "      <td>0.076923</td>\n",
       "      <td>2.000000</td>\n",
       "      <td>3.000000</td>\n",
       "      <td>1.000000</td>\n",
       "      <td>0.238806</td>\n",
       "      <td>0.654545</td>\n",
       "      <td>0.225941</td>\n",
       "      <td>...</td>\n",
       "      <td>0.000000</td>\n",
       "      <td>0.000000</td>\n",
       "      <td>0.000000</td>\n",
       "      <td>0.000000</td>\n",
       "      <td>0.000000</td>\n",
       "      <td>0.000000</td>\n",
       "      <td>0.000000</td>\n",
       "      <td>0.000000</td>\n",
       "      <td>0.000000</td>\n",
       "      <td>4.000000</td>\n",
       "    </tr>\n",
       "    <tr>\n",
       "      <th>50%</th>\n",
       "      <td>39487.000000</td>\n",
       "      <td>1.000000</td>\n",
       "      <td>26.000000</td>\n",
       "      <td>0.230769</td>\n",
       "      <td>2.000000</td>\n",
       "      <td>3.000000</td>\n",
       "      <td>1.000000</td>\n",
       "      <td>0.402985</td>\n",
       "      <td>0.709091</td>\n",
       "      <td>0.288703</td>\n",
       "      <td>...</td>\n",
       "      <td>0.000000</td>\n",
       "      <td>0.000000</td>\n",
       "      <td>0.000000</td>\n",
       "      <td>0.000000</td>\n",
       "      <td>0.000000</td>\n",
       "      <td>0.000000</td>\n",
       "      <td>0.000000</td>\n",
       "      <td>0.000000</td>\n",
       "      <td>0.000000</td>\n",
       "      <td>6.000000</td>\n",
       "    </tr>\n",
       "    <tr>\n",
       "      <th>75%</th>\n",
       "      <td>59211.000000</td>\n",
       "      <td>1.000000</td>\n",
       "      <td>26.000000</td>\n",
       "      <td>0.487179</td>\n",
       "      <td>2.000000</td>\n",
       "      <td>3.000000</td>\n",
       "      <td>1.000000</td>\n",
       "      <td>0.567164</td>\n",
       "      <td>0.763636</td>\n",
       "      <td>0.345188</td>\n",
       "      <td>...</td>\n",
       "      <td>0.000000</td>\n",
       "      <td>0.000000</td>\n",
       "      <td>0.000000</td>\n",
       "      <td>0.000000</td>\n",
       "      <td>0.000000</td>\n",
       "      <td>0.000000</td>\n",
       "      <td>0.000000</td>\n",
       "      <td>0.000000</td>\n",
       "      <td>0.000000</td>\n",
       "      <td>8.000000</td>\n",
       "    </tr>\n",
       "    <tr>\n",
       "      <th>max</th>\n",
       "      <td>79146.000000</td>\n",
       "      <td>2.000000</td>\n",
       "      <td>38.000000</td>\n",
       "      <td>1.000000</td>\n",
       "      <td>3.000000</td>\n",
       "      <td>3.000000</td>\n",
       "      <td>3.000000</td>\n",
       "      <td>1.000000</td>\n",
       "      <td>1.000000</td>\n",
       "      <td>1.000000</td>\n",
       "      <td>...</td>\n",
       "      <td>1.000000</td>\n",
       "      <td>1.000000</td>\n",
       "      <td>1.000000</td>\n",
       "      <td>1.000000</td>\n",
       "      <td>1.000000</td>\n",
       "      <td>1.000000</td>\n",
       "      <td>1.000000</td>\n",
       "      <td>1.000000</td>\n",
       "      <td>1.000000</td>\n",
       "      <td>8.000000</td>\n",
       "    </tr>\n",
       "  </tbody>\n",
       "</table>\n",
       "<p>8 rows × 127 columns</p>\n",
       "</div>"
      ],
      "text/plain": [
       "                 Id  Product_Info_1  Product_Info_3  Product_Info_4  \\\n",
       "count  59381.000000    59381.000000    59381.000000    59381.000000   \n",
       "mean   39507.211515        1.026355       24.415655        0.328952   \n",
       "std    22815.883089        0.160191        5.072885        0.282562   \n",
       "min        2.000000        1.000000        1.000000        0.000000   \n",
       "25%    19780.000000        1.000000       26.000000        0.076923   \n",
       "50%    39487.000000        1.000000       26.000000        0.230769   \n",
       "75%    59211.000000        1.000000       26.000000        0.487179   \n",
       "max    79146.000000        2.000000       38.000000        1.000000   \n",
       "\n",
       "       Product_Info_5  Product_Info_6  Product_Info_7       Ins_Age  \\\n",
       "count    59381.000000    59381.000000    59381.000000  59381.000000   \n",
       "mean         2.006955        2.673599        1.043583      0.405567   \n",
       "std          0.083107        0.739103        0.291949      0.197190   \n",
       "min          2.000000        1.000000        1.000000      0.000000   \n",
       "25%          2.000000        3.000000        1.000000      0.238806   \n",
       "50%          2.000000        3.000000        1.000000      0.402985   \n",
       "75%          2.000000        3.000000        1.000000      0.567164   \n",
       "max          3.000000        3.000000        3.000000      1.000000   \n",
       "\n",
       "                 Ht            Wt  ...  Medical_Keyword_40  \\\n",
       "count  59381.000000  59381.000000  ...        59381.000000   \n",
       "mean       0.707283      0.292587  ...            0.056954   \n",
       "std        0.074239      0.089037  ...            0.231757   \n",
       "min        0.000000      0.000000  ...            0.000000   \n",
       "25%        0.654545      0.225941  ...            0.000000   \n",
       "50%        0.709091      0.288703  ...            0.000000   \n",
       "75%        0.763636      0.345188  ...            0.000000   \n",
       "max        1.000000      1.000000  ...            1.000000   \n",
       "\n",
       "       Medical_Keyword_41  Medical_Keyword_42  Medical_Keyword_43  \\\n",
       "count        59381.000000        59381.000000        59381.000000   \n",
       "mean             0.010054            0.045536            0.010710   \n",
       "std              0.099764            0.208479            0.102937   \n",
       "min              0.000000            0.000000            0.000000   \n",
       "25%              0.000000            0.000000            0.000000   \n",
       "50%              0.000000            0.000000            0.000000   \n",
       "75%              0.000000            0.000000            0.000000   \n",
       "max              1.000000            1.000000            1.000000   \n",
       "\n",
       "       Medical_Keyword_44  Medical_Keyword_45  Medical_Keyword_46  \\\n",
       "count        59381.000000        59381.000000        59381.000000   \n",
       "mean             0.007528            0.013691            0.008488   \n",
       "std              0.086436            0.116207            0.091737   \n",
       "min              0.000000            0.000000            0.000000   \n",
       "25%              0.000000            0.000000            0.000000   \n",
       "50%              0.000000            0.000000            0.000000   \n",
       "75%              0.000000            0.000000            0.000000   \n",
       "max              1.000000            1.000000            1.000000   \n",
       "\n",
       "       Medical_Keyword_47  Medical_Keyword_48      Response  \n",
       "count        59381.000000        59381.000000  59381.000000  \n",
       "mean             0.019905            0.054496      5.636837  \n",
       "std              0.139676            0.226995      2.456833  \n",
       "min              0.000000            0.000000      1.000000  \n",
       "25%              0.000000            0.000000      4.000000  \n",
       "50%              0.000000            0.000000      6.000000  \n",
       "75%              0.000000            0.000000      8.000000  \n",
       "max              1.000000            1.000000      8.000000  \n",
       "\n",
       "[8 rows x 127 columns]"
      ]
     },
     "execution_count": 11,
     "metadata": {},
     "output_type": "execute_result"
    }
   ],
   "source": [
    "df_train.describe()"
   ]
  },
  {
   "cell_type": "markdown",
   "metadata": {},
   "source": [
    "# Doing univarate analysis for categorical features"
   ]
  },
  {
   "cell_type": "code",
   "execution_count": 45,
   "metadata": {},
   "outputs": [
    {
     "data": {
      "text/plain": [
       "<matplotlib.axes._subplots.AxesSubplot at 0x7f24ccc032e8>"
      ]
     },
     "execution_count": 45,
     "metadata": {},
     "output_type": "execute_result"
    },
    {
     "data": {
      "image/png": "[encoded data removed]",
      "text/plain": [
       "<Figure size 432x288 with 1 Axes>"
      ]
     },
     "metadata": {
      "needs_background": "light"
     },
     "output_type": "display_data"
    }
   ],
   "source": [
    "sns.countplot(y='Response',data = df_train)"
   ]
  },
  {
   "cell_type": "code",
   "execution_count": 8,
   "metadata": {},
   "outputs": [
    {
     "data": {
      "text/plain": [
       "8    0.328203\n",
       "6    0.189168\n",
       "7    0.135178\n",
       "2    0.110338\n",
       "1    0.104528\n",
       "5    0.091477\n",
       "4    0.024048\n",
       "3    0.017059\n",
       "Name: Response, dtype: float64"
      ]
     },
     "execution_count": 8,
     "metadata": {},
     "output_type": "execute_result"
    }
   ],
   "source": [
    "# Expressing Response in percentage\n",
    "df_train['Response'].value_counts()/df_train.shape[0]"
   ]
  },
  {
   "cell_type": "markdown",
   "metadata": {},
   "source": [
    " from the above stats it shows that 32% of the insurer are classify in risk level.\n",
    " with 18% in risk class 6\n",
    " and 2% in risk class 2 and 3"
   ]
  },
  {
   "cell_type": "code",
   "execution_count": 9,
   "metadata": {},
   "outputs": [
    {
     "data": {
      "text/plain": [
       "<matplotlib.axes._subplots.AxesSubplot at 0x7fa912ee6c18>"
      ]
     },
     "execution_count": 9,
     "metadata": {},
     "output_type": "execute_result"
    },
    {
     "data": {
      "image/png": "[encoded data removed]",
      "text/plain": [
       "<Figure size 432x288 with 1 Axes>"
      ]
     },
     "metadata": {
      "needs_background": "light"
     },
     "output_type": "display_data"
    }
   ],
   "source": [
    "# checking the the distribution of  The Product_Info_2 feature\n",
    "sns.countplot(y='Product_Info_2',data = df_train)"
   ]
  },
  {
   "cell_type": "markdown",
   "metadata": {},
   "source": [
    "From the chart above we the presence of sparse class C4,C1,A4 etc, this could cause our model to overfit. this we wiil handle in feature engineering"
   ]
  },
  {
   "cell_type": "code",
   "execution_count": 26,
   "metadata": {},
   "outputs": [
    {
     "data": {
      "text/plain": [
       "Product_Info_2    object\n",
       "dtype: object"
      ]
     },
     "execution_count": 26,
     "metadata": {},
     "output_type": "execute_result"
    }
   ],
   "source": [
    "#filter and display only df_train.dtypes that are object\n",
    "df_train.dtypes[df_train.dtypes == 'object']"
   ]
  },
  {
   "cell_type": "markdown",
   "metadata": {},
   "source": [
    "# Performing Univarate analysis for numerical features\n",
    "we do this by checking the distribution of the observations in the features"
   ]
  },
  {
   "cell_type": "code",
   "execution_count": 9,
   "metadata": {},
   "outputs": [
    {
     "data": {
      "text/plain": [
       "<matplotlib.axes._subplots.AxesSubplot at 0x7f4defdb1198>"
      ]
     },
     "execution_count": 9,
     "metadata": {},
     "output_type": "execute_result"
    },
    {
     "data": {
      "image/png": "[encoded data removed]",
      "text/plain": [
       "<Figure size 432x288 with 1 Axes>"
      ]
     },
     "metadata": {
      "needs_background": "light"
     },
     "output_type": "display_data"
    }
   ],
   "source": [
    "#checking the insurer age distribution\n",
    "df_train.Ins_Age.hist()"
   ]
  },
  {
   "cell_type": "markdown",
   "metadata": {},
   "source": [
    "The insurers Age is normalize, thus require not much work done on it"
   ]
  },
  {
   "cell_type": "code",
   "execution_count": 10,
   "metadata": {},
   "outputs": [
    {
     "data": {
      "image/png": "[encoded data removed]",
      "text/plain": [
       "<Figure size 432x288 with 1 Axes>"
      ]
     },
     "metadata": {
      "needs_background": "light"
     },
     "output_type": "display_data"
    }
   ],
   "source": [
    "sns.boxplot(df_train.Ins_Age)\n",
    "plt.show()"
   ]
  },
  {
   "cell_type": "markdown",
   "metadata": {},
   "source": [
    "Their is no outlier in Ins_Age feature"
   ]
  },
  {
   "cell_type": "markdown",
   "metadata": {},
   "source": [
    "Performing Bivarate and Multivate analysis\n",
    " * the effect of age on the response\n",
    " * the effect of the Bmi on the response"
   ]
  },
  {
   "cell_type": "code",
   "execution_count": 22,
   "metadata": {},
   "outputs": [
    {
     "data": {
      "image/png": "[encoded data removed]",
      "text/plain": [
       "<Figure size 432x288 with 1 Axes>"
      ]
     },
     "metadata": {},
     "output_type": "display_data"
    }
   ],
   "source": [
    "#Ins_age vs Response\n",
    "sns.boxplot(y='Ins_Age', x='Response', data =df_train)\n",
    "plt.show()"
   ]
  },
  {
   "cell_type": "code",
   "execution_count": 48,
   "metadata": {},
   "outputs": [
    {
     "data": {
      "image/png": "[encoded data removed]",
      "text/plain": [
       "<Figure size 432x288 with 1 Axes>"
      ]
     },
     "metadata": {},
     "output_type": "display_data"
    }
   ],
   "source": [
    "sns.boxplot(y='BMI', x='Response', data =df_train)\n",
    "plt.show()"
   ]
  },
  {
   "cell_type": "code",
   "execution_count": 26,
   "metadata": {},
   "outputs": [
    {
     "data": {
      "text/plain": [
       "8    0.328203\n",
       "6    0.189168\n",
       "7    0.135178\n",
       "2    0.110338\n",
       "1    0.104528\n",
       "5    0.091477\n",
       "4    0.024048\n",
       "3    0.017059\n",
       "Name: Response, dtype: float64"
      ]
     },
     "execution_count": 26,
     "metadata": {},
     "output_type": "execute_result"
    }
   ],
   "source": [
    "df_train['Response'].value_counts(normalize=True)"
   ]
  },
  {
   "cell_type": "code",
   "execution_count": 29,
   "metadata": {},
   "outputs": [
    {
     "data": {
      "text/plain": [
       "Index(['Id', 'Product_Info_1', 'Product_Info_2', 'Product_Info_3',\n",
       "       'Product_Info_4', 'Product_Info_5', 'Product_Info_6', 'Product_Info_7',\n",
       "       'Ins_Age', 'Ht',\n",
       "       ...\n",
       "       'Medical_Keyword_40', 'Medical_Keyword_41', 'Medical_Keyword_42',\n",
       "       'Medical_Keyword_43', 'Medical_Keyword_44', 'Medical_Keyword_45',\n",
       "       'Medical_Keyword_46', 'Medical_Keyword_47', 'Medical_Keyword_48',\n",
       "       'Response'],\n",
       "      dtype='object', length=128)"
      ]
     },
     "execution_count": 29,
     "metadata": {},
     "output_type": "execute_result"
    }
   ],
   "source": [
    "df_train.columns"
   ]
  },
  {
   "cell_type": "code",
   "execution_count": 44,
   "metadata": {},
   "outputs": [
    {
     "data": {
      "text/plain": [
       "<matplotlib.axes._subplots.AxesSubplot at 0x7f4de81a3630>"
      ]
     },
     "execution_count": 44,
     "metadata": {},
     "output_type": "execute_result"
    },
    {
     "data": {
      "image/png": "[encoded data removed]",
      "text/plain": [
       "<Figure size 432x288 with 2 Axes>"
      ]
     },
     "metadata": {},
     "output_type": "display_data"
    }
   ],
   "source": [
    "#checking the distribution of the height\n",
    "plt.figure(1)\n",
    "plt.subplot(121)\n",
    "sns.distplot(df_train['Ht'])\n",
    "plt.subplot(122)\n",
    "sns.boxplot(df_train['Ht'])"
   ]
  },
  {
   "cell_type": "code",
   "execution_count": 39,
   "metadata": {},
   "outputs": [
    {
     "data": {
      "text/plain": [
       "-0.3816007472268867"
      ]
     },
     "execution_count": 39,
     "metadata": {},
     "output_type": "execute_result"
    }
   ],
   "source": [
    "df_train['BMI'].corr(df_train['Response'])"
   ]
  },
  {
   "cell_type": "code",
   "execution_count": 40,
   "metadata": {},
   "outputs": [
    {
     "data": {
      "text/plain": [
       "-0.3513948009758034"
      ]
     },
     "execution_count": 40,
     "metadata": {},
     "output_type": "execute_result"
    }
   ],
   "source": [
    "df_train['Wt'].corr(df_train['Response'])"
   ]
  },
  {
   "cell_type": "markdown",
   "metadata": {},
   "source": [
    "we can drop the height and weight since we have the bmi"
   ]
  },
  {
   "cell_type": "code",
   "execution_count": 47,
   "metadata": {},
   "outputs": [
    {
     "data": {
      "text/plain": [
       "<matplotlib.axes._subplots.AxesSubplot at 0x7f4de39fa080>"
      ]
     },
     "execution_count": 47,
     "metadata": {},
     "output_type": "execute_result"
    },
    {
     "data": {
      "image/png": "[encoded data removed]",
      "text/plain": [
       "<Figure size 432x288 with 2 Axes>"
      ]
     },
     "metadata": {},
     "output_type": "display_data"
    }
   ],
   "source": [
    "\n",
    "# univarate analysis for BMI\n",
    "plt.figure(1)\n",
    "plt.subplot(121)\n",
    "sns.distplot(df_train['BMI'])\n",
    "plt.subplot(122)\n",
    "sns.boxplot(df_train['BMI'])"
   ]
  },
  {
   "cell_type": "code",
   "execution_count": 69,
   "metadata": {},
   "outputs": [],
   "source": [
    "em=df_train[['Employment_Info_1','Employment_Info_2','Employment_Info_3','Employment_Info_4','Employment_Info_5','Employment_Info_6']]"
   ]
  },
  {
   "cell_type": "code",
   "execution_count": 70,
   "metadata": {},
   "outputs": [
    {
     "data": {
      "text/html": [
       "<div>\n",
       "<style scoped>\n",
       "    .dataframe tbody tr th:only-of-type {\n",
       "        vertical-align: middle;\n",
       "    }\n",
       "\n",
       "    .dataframe tbody tr th {\n",
       "        vertical-align: top;\n",
       "    }\n",
       "\n",
       "    .dataframe thead th {\n",
       "        text-align: right;\n",
       "    }\n",
       "</style>\n",
       "<table border=\"1\" class=\"dataframe\">\n",
       "  <thead>\n",
       "    <tr style=\"text-align: right;\">\n",
       "      <th></th>\n",
       "      <th>Employment_Info_1</th>\n",
       "      <th>Employment_Info_2</th>\n",
       "      <th>Employment_Info_3</th>\n",
       "      <th>Employment_Info_4</th>\n",
       "      <th>Employment_Info_5</th>\n",
       "      <th>Employment_Info_6</th>\n",
       "    </tr>\n",
       "  </thead>\n",
       "  <tbody>\n",
       "    <tr>\n",
       "      <th>0</th>\n",
       "      <td>0.0280</td>\n",
       "      <td>12</td>\n",
       "      <td>1</td>\n",
       "      <td>0.0</td>\n",
       "      <td>3</td>\n",
       "      <td>NaN</td>\n",
       "    </tr>\n",
       "    <tr>\n",
       "      <th>1</th>\n",
       "      <td>0.0000</td>\n",
       "      <td>1</td>\n",
       "      <td>3</td>\n",
       "      <td>0.0</td>\n",
       "      <td>2</td>\n",
       "      <td>0.0018</td>\n",
       "    </tr>\n",
       "    <tr>\n",
       "      <th>2</th>\n",
       "      <td>0.0300</td>\n",
       "      <td>9</td>\n",
       "      <td>1</td>\n",
       "      <td>0.0</td>\n",
       "      <td>2</td>\n",
       "      <td>0.0300</td>\n",
       "    </tr>\n",
       "    <tr>\n",
       "      <th>3</th>\n",
       "      <td>0.0420</td>\n",
       "      <td>9</td>\n",
       "      <td>1</td>\n",
       "      <td>0.0</td>\n",
       "      <td>3</td>\n",
       "      <td>0.2000</td>\n",
       "    </tr>\n",
       "    <tr>\n",
       "      <th>4</th>\n",
       "      <td>0.0270</td>\n",
       "      <td>9</td>\n",
       "      <td>1</td>\n",
       "      <td>0.0</td>\n",
       "      <td>2</td>\n",
       "      <td>0.0500</td>\n",
       "    </tr>\n",
       "    <tr>\n",
       "      <th>5</th>\n",
       "      <td>0.3250</td>\n",
       "      <td>15</td>\n",
       "      <td>1</td>\n",
       "      <td>0.0</td>\n",
       "      <td>2</td>\n",
       "      <td>1.0000</td>\n",
       "    </tr>\n",
       "    <tr>\n",
       "      <th>6</th>\n",
       "      <td>0.1100</td>\n",
       "      <td>1</td>\n",
       "      <td>3</td>\n",
       "      <td>NaN</td>\n",
       "      <td>3</td>\n",
       "      <td>0.8000</td>\n",
       "    </tr>\n",
       "    <tr>\n",
       "      <th>7</th>\n",
       "      <td>0.1200</td>\n",
       "      <td>12</td>\n",
       "      <td>1</td>\n",
       "      <td>0.0</td>\n",
       "      <td>2</td>\n",
       "      <td>1.0000</td>\n",
       "    </tr>\n",
       "    <tr>\n",
       "      <th>8</th>\n",
       "      <td>0.1650</td>\n",
       "      <td>9</td>\n",
       "      <td>1</td>\n",
       "      <td>0.0</td>\n",
       "      <td>2</td>\n",
       "      <td>1.0000</td>\n",
       "    </tr>\n",
       "    <tr>\n",
       "      <th>9</th>\n",
       "      <td>0.0250</td>\n",
       "      <td>1</td>\n",
       "      <td>3</td>\n",
       "      <td>0.0</td>\n",
       "      <td>3</td>\n",
       "      <td>0.0500</td>\n",
       "    </tr>\n",
       "    <tr>\n",
       "      <th>10</th>\n",
       "      <td>0.0500</td>\n",
       "      <td>9</td>\n",
       "      <td>1</td>\n",
       "      <td>NaN</td>\n",
       "      <td>2</td>\n",
       "      <td>0.1500</td>\n",
       "    </tr>\n",
       "    <tr>\n",
       "      <th>11</th>\n",
       "      <td>0.0900</td>\n",
       "      <td>3</td>\n",
       "      <td>1</td>\n",
       "      <td>NaN</td>\n",
       "      <td>2</td>\n",
       "      <td>1.0000</td>\n",
       "    </tr>\n",
       "    <tr>\n",
       "      <th>12</th>\n",
       "      <td>0.0750</td>\n",
       "      <td>9</td>\n",
       "      <td>1</td>\n",
       "      <td>0.0</td>\n",
       "      <td>2</td>\n",
       "      <td>NaN</td>\n",
       "    </tr>\n",
       "    <tr>\n",
       "      <th>13</th>\n",
       "      <td>0.1000</td>\n",
       "      <td>9</td>\n",
       "      <td>1</td>\n",
       "      <td>NaN</td>\n",
       "      <td>2</td>\n",
       "      <td>0.0750</td>\n",
       "    </tr>\n",
       "    <tr>\n",
       "      <th>14</th>\n",
       "      <td>0.1600</td>\n",
       "      <td>3</td>\n",
       "      <td>1</td>\n",
       "      <td>0.0</td>\n",
       "      <td>2</td>\n",
       "      <td>0.6000</td>\n",
       "    </tr>\n",
       "    <tr>\n",
       "      <th>15</th>\n",
       "      <td>0.0750</td>\n",
       "      <td>9</td>\n",
       "      <td>1</td>\n",
       "      <td>0.0</td>\n",
       "      <td>2</td>\n",
       "      <td>NaN</td>\n",
       "    </tr>\n",
       "    <tr>\n",
       "      <th>16</th>\n",
       "      <td>0.1000</td>\n",
       "      <td>14</td>\n",
       "      <td>1</td>\n",
       "      <td>0.0</td>\n",
       "      <td>2</td>\n",
       "      <td>0.2500</td>\n",
       "    </tr>\n",
       "    <tr>\n",
       "      <th>17</th>\n",
       "      <td>0.0378</td>\n",
       "      <td>9</td>\n",
       "      <td>1</td>\n",
       "      <td>0.0</td>\n",
       "      <td>2</td>\n",
       "      <td>0.0360</td>\n",
       "    </tr>\n",
       "    <tr>\n",
       "      <th>18</th>\n",
       "      <td>0.0800</td>\n",
       "      <td>9</td>\n",
       "      <td>1</td>\n",
       "      <td>0.0</td>\n",
       "      <td>2</td>\n",
       "      <td>NaN</td>\n",
       "    </tr>\n",
       "    <tr>\n",
       "      <th>19</th>\n",
       "      <td>0.0550</td>\n",
       "      <td>9</td>\n",
       "      <td>1</td>\n",
       "      <td>0.0</td>\n",
       "      <td>2</td>\n",
       "      <td>0.0000</td>\n",
       "    </tr>\n",
       "  </tbody>\n",
       "</table>\n",
       "</div>"
      ],
      "text/plain": [
       "    Employment_Info_1  Employment_Info_2  Employment_Info_3  \\\n",
       "0              0.0280                 12                  1   \n",
       "1              0.0000                  1                  3   \n",
       "2              0.0300                  9                  1   \n",
       "3              0.0420                  9                  1   \n",
       "4              0.0270                  9                  1   \n",
       "5              0.3250                 15                  1   \n",
       "6              0.1100                  1                  3   \n",
       "7              0.1200                 12                  1   \n",
       "8              0.1650                  9                  1   \n",
       "9              0.0250                  1                  3   \n",
       "10             0.0500                  9                  1   \n",
       "11             0.0900                  3                  1   \n",
       "12             0.0750                  9                  1   \n",
       "13             0.1000                  9                  1   \n",
       "14             0.1600                  3                  1   \n",
       "15             0.0750                  9                  1   \n",
       "16             0.1000                 14                  1   \n",
       "17             0.0378                  9                  1   \n",
       "18             0.0800                  9                  1   \n",
       "19             0.0550                  9                  1   \n",
       "\n",
       "    Employment_Info_4  Employment_Info_5  Employment_Info_6  \n",
       "0                 0.0                  3                NaN  \n",
       "1                 0.0                  2             0.0018  \n",
       "2                 0.0                  2             0.0300  \n",
       "3                 0.0                  3             0.2000  \n",
       "4                 0.0                  2             0.0500  \n",
       "5                 0.0                  2             1.0000  \n",
       "6                 NaN                  3             0.8000  \n",
       "7                 0.0                  2             1.0000  \n",
       "8                 0.0                  2             1.0000  \n",
       "9                 0.0                  3             0.0500  \n",
       "10                NaN                  2             0.1500  \n",
       "11                NaN                  2             1.0000  \n",
       "12                0.0                  2                NaN  \n",
       "13                NaN                  2             0.0750  \n",
       "14                0.0                  2             0.6000  \n",
       "15                0.0                  2                NaN  \n",
       "16                0.0                  2             0.2500  \n",
       "17                0.0                  2             0.0360  \n",
       "18                0.0                  2                NaN  \n",
       "19                0.0                  2             0.0000  "
      ]
     },
     "execution_count": 70,
     "metadata": {},
     "output_type": "execute_result"
    }
   ],
   "source": [
    "em.head(20)"
   ]
  },
  {
   "cell_type": "markdown",
   "metadata": {},
   "source": [
    "# Data Cleaning"
   ]
  },
  {
   "cell_type": "code",
   "execution_count": 82,
   "metadata": {},
   "outputs": [],
   "source": [
    "#drop Duplicates\n",
    "df_train =df_train.drop_duplicates()"
   ]
  },
  {
   "cell_type": "code",
   "execution_count": 83,
   "metadata": {},
   "outputs": [
    {
     "data": {
      "text/plain": [
       "<matplotlib.axes._subplots.AxesSubplot at 0x7f4de31531d0>"
      ]
     },
     "execution_count": 83,
     "metadata": {},
     "output_type": "execute_result"
    },
    {
     "data": {
      "image/png": "[encoded data removed]",
      "text/plain": [
       "<Figure size 432x288 with 1 Axes>"
      ]
     },
     "metadata": {},
     "output_type": "display_data"
    }
   ],
   "source": [
    "sns.countplot(y='Product_Info_2', data=df_train)"
   ]
  },
  {
   "cell_type": "code",
   "execution_count": 87,
   "metadata": {},
   "outputs": [
    {
     "data": {
      "text/plain": [
       "D3    0.241171\n",
       "D4    0.182078\n",
       "A8    0.115104\n",
       "D1    0.110372\n",
       "D2    0.105859\n",
       "E1    0.044577\n",
       "A1    0.039794\n",
       "A6    0.035331\n",
       "A2    0.033243\n",
       "A7    0.023290\n",
       "B2    0.018895\n",
       "A3    0.016453\n",
       "A5    0.013051\n",
       "C3    0.005153\n",
       "C1    0.004800\n",
       "C4    0.003688\n",
       "A4    0.003536\n",
       "C2    0.002694\n",
       "B1    0.000909\n",
       "Name: Product_Info_2, dtype: float64"
      ]
     },
     "execution_count": 87,
     "metadata": {},
     "output_type": "execute_result"
    }
   ],
   "source": [
    "df_train['Product_Info_2'].value_counts()/df_train.shape[0]"
   ]
  },
  {
   "cell_type": "code",
   "execution_count": 89,
   "metadata": {},
   "outputs": [],
   "source": [
    "categories_to_combine = ['E1','A1','A6','A2','A7','B2','A3','A5','C3','C1','C4','A4','C2','B1']"
   ]
  },
  {
   "cell_type": "code",
   "execution_count": 90,
   "metadata": {},
   "outputs": [
    {
     "data": {
      "text/plain": [
       "['E1',\n",
       " 'A1',\n",
       " 'A6',\n",
       " 'A2',\n",
       " 'A7',\n",
       " 'B2',\n",
       " 'A3',\n",
       " 'A5',\n",
       " 'C3',\n",
       " 'C1',\n",
       " 'C4',\n",
       " 'A4',\n",
       " 'C2',\n",
       " 'B1']"
      ]
     },
     "execution_count": 90,
     "metadata": {},
     "output_type": "execute_result"
    }
   ],
   "source": [
    "categories_to_combine"
   ]
  },
  {
   "cell_type": "code",
   "execution_count": 91,
   "metadata": {},
   "outputs": [],
   "source": [
    "for  i in categories_to_combine:\n",
    "    df_train['Product_Info_2'].replace({i:'Spares_data'},inplace =True)"
   ]
  },
  {
   "cell_type": "code",
   "execution_count": 93,
   "metadata": {},
   "outputs": [
    {
     "data": {
      "text/plain": [
       "Spares_data    0.245415\n",
       "D3             0.241171\n",
       "D4             0.182078\n",
       "A8             0.115104\n",
       "D1             0.110372\n",
       "D2             0.105859\n",
       "Name: Product_Info_2, dtype: float64"
      ]
     },
     "execution_count": 93,
     "metadata": {},
     "output_type": "execute_result"
    }
   ],
   "source": [
    "df_train['Product_Info_2'].value_counts()/df_train.shape[0]"
   ]
  },
  {
   "cell_type": "markdown",
   "metadata": {},
   "source": [
    "# Creating Dummy variable for the categorical data\n"
   ]
  },
  {
   "cell_type": "code",
   "execution_count": 94,
   "metadata": {},
   "outputs": [
    {
     "ename": "SyntaxError",
     "evalue": "invalid syntax (<ipython-input-94-7853ed388f62>, line 2)",
     "output_type": "error",
     "traceback": [
      "\u001b[0;36m  File \u001b[0;32m\"<ipython-input-94-7853ed388f62>\"\u001b[0;36m, line \u001b[0;32m2\u001b[0m\n\u001b[0;31m    abt pd.get_dummies(df_train, columns=['Product_Info_2'])\u001b[0m\n\u001b[0m         ^\u001b[0m\n\u001b[0;31mSyntaxError\u001b[0m\u001b[0;31m:\u001b[0m invalid syntax\n"
     ]
    }
   ],
   "source": [
    "#Create new dataframe with dummy features\n",
    "abt pd.get_dummies(df_train, columns=['Product_Info_2'])"
   ]
  },
  {
   "cell_type": "markdown",
   "metadata": {},
   "source": [
    "From the above visualization, we see the presence of sparse classes which can cost overfitting,hence we will deal with this"
   ]
  },
  {
   "cell_type": "markdown",
   "metadata": {},
   "source": [
    "# finding and counting missing values for categorical feature"
   ]
  },
  {
   "cell_type": "code",
   "execution_count": 84,
   "metadata": {},
   "outputs": [
    {
     "data": {
      "text/plain": [
       "Product_Info_2    0\n",
       "dtype: int64"
      ]
     },
     "execution_count": 84,
     "metadata": {},
     "output_type": "execute_result"
    }
   ],
   "source": [
    "df_train.select_dtypes(include=['object']).isnull().sum()"
   ]
  },
  {
   "cell_type": "code",
   "execution_count": 85,
   "metadata": {},
   "outputs": [
    {
     "data": {
      "text/plain": [
       "Id                         0\n",
       "Product_Info_1             0\n",
       "Product_Info_3             0\n",
       "Product_Info_4             0\n",
       "Product_Info_5             0\n",
       "Product_Info_6             0\n",
       "Product_Info_7             0\n",
       "Ins_Age                    0\n",
       "Ht                         0\n",
       "Wt                         0\n",
       "BMI                        0\n",
       "Employment_Info_1         19\n",
       "Employment_Info_2          0\n",
       "Employment_Info_3          0\n",
       "Employment_Info_4       6779\n",
       "Employment_Info_5          0\n",
       "Employment_Info_6      10854\n",
       "InsuredInfo_1              0\n",
       "InsuredInfo_2              0\n",
       "InsuredInfo_3              0\n",
       "InsuredInfo_4              0\n",
       "InsuredInfo_5              0\n",
       "InsuredInfo_6              0\n",
       "InsuredInfo_7              0\n",
       "Insurance_History_1        0\n",
       "Insurance_History_2        0\n",
       "Insurance_History_3        0\n",
       "Insurance_History_4        0\n",
       "Insurance_History_5    25396\n",
       "Insurance_History_7        0\n",
       "                       ...  \n",
       "Medical_Keyword_20         0\n",
       "Medical_Keyword_21         0\n",
       "Medical_Keyword_22         0\n",
       "Medical_Keyword_23         0\n",
       "Medical_Keyword_24         0\n",
       "Medical_Keyword_25         0\n",
       "Medical_Keyword_26         0\n",
       "Medical_Keyword_27         0\n",
       "Medical_Keyword_28         0\n",
       "Medical_Keyword_29         0\n",
       "Medical_Keyword_30         0\n",
       "Medical_Keyword_31         0\n",
       "Medical_Keyword_32         0\n",
       "Medical_Keyword_33         0\n",
       "Medical_Keyword_34         0\n",
       "Medical_Keyword_35         0\n",
       "Medical_Keyword_36         0\n",
       "Medical_Keyword_37         0\n",
       "Medical_Keyword_38         0\n",
       "Medical_Keyword_39         0\n",
       "Medical_Keyword_40         0\n",
       "Medical_Keyword_41         0\n",
       "Medical_Keyword_42         0\n",
       "Medical_Keyword_43         0\n",
       "Medical_Keyword_44         0\n",
       "Medical_Keyword_45         0\n",
       "Medical_Keyword_46         0\n",
       "Medical_Keyword_47         0\n",
       "Medical_Keyword_48         0\n",
       "Response                   0\n",
       "Length: 127, dtype: int64"
      ]
     },
     "execution_count": 85,
     "metadata": {},
     "output_type": "execute_result"
    }
   ],
   "source": [
    "df_train.select_dtypes(exclude=['object']).isnull().sum()"
   ]
  },
  {
   "cell_type": "markdown",
   "metadata": {},
   "source": [
    "# Handling missing values\n",
    "    * perform mode imputation for categorical fatures\n",
    "    * perform mean or median imputation for numerical features"
   ]
  },
  {
   "cell_type": "code",
   "execution_count": null,
   "metadata": {},
   "outputs": [],
   "source": []
  },
  {
   "cell_type": "code",
   "execution_count": 98,
   "metadata": {},
   "outputs": [
    {
     "data": {
      "text/plain": [
       "<matplotlib.axes._subplots.AxesSubplot at 0x7f4dda1a84a8>"
      ]
     },
     "execution_count": 98,
     "metadata": {},
     "output_type": "execute_result"
    },
    {
     "data": {
      "image/png": "[encoded data removed]",
      "text/plain": [
       "<Figure size 432x288 with 2 Axes>"
      ]
     },
     "metadata": {},
     "output_type": "display_data"
    }
   ],
   "source": [
    "# checking the features with null for outliers\\\n",
    "plt.figure(1)\n",
    "plt.subplot(121)\n",
    "sns.boxplot(df_train.Employment_Info_6)\n",
    "plt.subplot(122)\n",
    "sns.boxplot(df_train.Employment_Info_4)"
   ]
  },
  {
   "cell_type": "code",
   "execution_count": null,
   "metadata": {},
   "outputs": [],
   "source": [
    "#since Employment_Info_6 has no outliers we can use the mean to fill the missing values\n",
    "data_train['Employment_Info_6'].fillna(df_train['Employment_Info_6'].mean(),inplace=True)\n",
    "data_test['Employment_Info_6'].fillna(df_test['Employment_Info_6'].mean(),inplace=True)"
   ]
  },
  {
   "cell_type": "code",
   "execution_count": 101,
   "metadata": {},
   "outputs": [
    {
     "data": {
      "text/plain": [
       "<matplotlib.axes._subplots.AxesSubplot at 0x7f4de330ddd8>"
      ]
     },
     "execution_count": 101,
     "metadata": {},
     "output_type": "execute_result"
    },
    {
     "data": {
      "image/png": "[encoded data removed]",
      "text/plain": [
       "<Figure size 432x288 with 2 Axes>"
      ]
     },
     "metadata": {},
     "output_type": "display_data"
    }
   ],
   "source": [
    "plt.figure(2)\n",
    "plt.subplot(121)\n",
    "sns.boxplot(df_train.Employment_Info_1)\n",
    "plt.subplot(122)\n",
    "sns.boxplot(df_train.Insurance_History_5)"
   ]
  },
  {
   "cell_type": "code",
   "execution_count": 102,
   "metadata": {},
   "outputs": [],
   "source": [
    "#using profiler\n",
    "import pandas_profiling as pf"
   ]
  },
  {
   "cell_type": "code",
   "execution_count": 1,
   "metadata": {},
   "outputs": [
    {
     "ename": "NameError",
     "evalue": "name 'pf' is not defined",
     "output_type": "error",
     "traceback": [
      "\u001b[0;31m---------------------------------------------------------------------------\u001b[0m",
      "\u001b[0;31mNameError\u001b[0m                                 Traceback (most recent call last)",
      "\u001b[0;32m<ipython-input-1-55f9fded38c4>\u001b[0m in \u001b[0;36m<module>\u001b[0;34m\u001b[0m\n\u001b[0;32m----> 1\u001b[0;31m \u001b[0mpf\u001b[0m\u001b[0;34m.\u001b[0m\u001b[0mProfileReport\u001b[0m\u001b[0;34m(\u001b[0m\u001b[0mdf_train\u001b[0m\u001b[0;34m)\u001b[0m\u001b[0;34m\u001b[0m\u001b[0;34m\u001b[0m\u001b[0m\n\u001b[0m",
      "\u001b[0;31mNameError\u001b[0m: name 'pf' is not defined"
     ]
    }
   ],
   "source": [
    "pf.ProfileReport(df_train)"
   ]
  },
  {
   "cell_type": "code",
   "execution_count": null,
   "metadata": {},
   "outputs": [],
   "source": []
  },
  {
   "cell_type": "markdown",
   "metadata": {},
   "source": [
    "# Feature Engineering\n",
    "* dropping some redundant feature\n",
    "* handling sparse classs\n",
    "* dropping features that are highly correlated\n",
    "\n",
    "Features with high correlation are more linearly dependent and hence have almost the same effect on the dependent variable. So, when two features have high correlation, we can drop one of the two features."
   ]
  },
  {
   "cell_type": "code",
   "execution_count": null,
   "metadata": {},
   "outputs": [],
   "source": []
  }
 ],
 "metadata": {
  "kernelspec": {
   "display_name": "Python 3",
   "language": "python",
   "name": "python3"
  },
  "language_info": {
   "codemirror_mode": {
    "name": "ipython",
    "version": 3
   },
   "file_extension": ".py",
   "mimetype": "text/x-python",
   "name": "python",
   "nbconvert_exporter": "python",
   "pygments_lexer": "ipython3",
   "version": "3.6.7"
  }
 },
 "nbformat": 4,
 "nbformat_minor": 2
}
